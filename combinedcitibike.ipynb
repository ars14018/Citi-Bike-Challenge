{
 "cells": [
  {
   "cell_type": "code",
   "execution_count": 1,
   "metadata": {},
   "outputs": [],
   "source": [
    "#Dependences \n",
    "import pandas as pd\n",
    "import numpy as np \n",
    "import datetime\n",
    "import calendar"
   ]
  },
  {
   "cell_type": "code",
   "execution_count": 2,
   "metadata": {},
   "outputs": [],
   "source": [
    "\n",
    "# Take in all of our CitiBike data and read it into pandas\n",
    "jan_2019 = \"./Resources/JC-201901-citibike-tripdata.csv\"\n",
    "feb_2019 = \"./Resources/JC-201902-citibike-tripdata.csv\"\n",
    "mar_2019 = \"./Resources/JC-201903-citibike-tripdata.csv\"\n",
    "apr_2019 = \"./Resources/JC-201904-citibike-tripdata.csv\"\n",
    "may_2019 = \"./Resources/JC-201905-citibike-tripdata.csv\"\n",
    "june_2019 = \"./Resources/JC-201906-citibike-tripdata.csv\"\n",
    "july_2019 = \"./Resources/JC-201907-citibike-tripdata.csv\"\n",
    "aug_2019 = \"./Resources/JC-201908-citibike-tripdata.csv\"\n",
    "sept_2019 = \"./Resources/JC-201909-citibike-tripdata.csv\"\n",
    "oct_2019 = \"./Resources/JC-201910-citibike-tripdata.csv\"\n",
    "nov_2019 = \"./Resources/JC-201911-citibike-tripdata.csv\"\n",
    "jan_2020 = \"./Resources/JC-202001-citibike-tripdata.csv\"\n",
    "feb_2020 = \"./Resources/JC-202002-citibike-tripdata.csv\"\n",
    "mar_2020 = \"./Resources/JC-202003-citibike-tripdata.csv\"\n",
    "apr_2020 = \"./Resources/JC-202004-citibike-tripdata.csv\"\n",
    "may_2020 = \"./Resources/JC-202005-citibike-tripdata.csv\"\n",
    "june_2020 = \"./Resources/JC-202006-citibike-tripdata.csv\"\n",
    "july_2020 = \"./Resources/JC-202007-citibike-tripdata 2.csv\"\n",
    "aug_2020 = \"./Resources/JC-202008-citibike-tripdata.csv\"\n",
    "sept_2020 = \"./Resources/JC-202009-citibike-tripdata 2.csv\"\n",
    "oct_2020 = \"./Resources/JC-202010-citibike-tripdata.csv\"\n",
    "nov_2020 = \"./Resources/JC-202011-citibike-tripdata.csv\"\n",
    "\n",
    "#Create DataFrames for all the data files\n",
    "jan_2019_df = pd.read_csv(jan_2019)\n",
    "feb_2019_df = pd.read_csv(feb_2019)\n",
    "mar_2019_df = pd.read_csv(mar_2019)\n",
    "apr_2019_df = pd.read_csv(apr_2019)\n",
    "may_2019_df = pd.read_csv(may_2019)\n",
    "june_2019_df = pd.read_csv(june_2019)\n",
    "july_2019_df = pd.read_csv(july_2019)\n",
    "aug_2019_df = pd.read_csv(aug_2019)\n",
    "sept_2019_df = pd.read_csv(sept_2019)\n",
    "oct_2019_df = pd.read_csv(oct_2019)\n",
    "nov_2019_df = pd.read_csv(nov_2019)\n",
    "jan_2020_df = pd.read_csv(jan_2020)\n",
    "feb_2020_df = pd.read_csv(feb_2020)\n",
    "mar_2020_df = pd.read_csv(mar_2020)\n",
    "apr_2020_df = pd.read_csv(apr_2020)\n",
    "may_2020_df = pd.read_csv(may_2020)\n",
    "june_2020_df = pd.read_csv(june_2020)\n",
    "july_2020_df = pd.read_csv(july_2020)\n",
    "aug_2020_df = pd.read_csv(aug_2020)\n",
    "sept_2020_df = pd.read_csv(sept_2020)\n",
    "oct_2020_df = pd.read_csv(oct_2020)\n",
    "nov_2020_df = pd.read_csv(nov_2020)\n"
   ]
  },
  {
   "cell_type": "code",
   "execution_count": null,
   "metadata": {},
   "outputs": [],
   "source": [
    "# # #Merge all data from 2019 into one big data frame\n",
    "#Merge all data from 2019 into one big data frame\n",
    "combined2019_CitiBike_df = pd.merge(jan_2019_df, feb_2019_df, how='outer')\n",
    "combined2019_CitiBike_df3 = pd.merge(combined2019_CitiBike_df,mar_2019_df, how = \"outer\")\n",
    "combined2019_CitiBike_df4 = pd.merge(combined2019_CitiBike_df3,apr_2019_df, how = \"outer\")\n",
    "combined2019_CitiBike_df5 = pd.merge(combined2019_CitiBike_df4,may_2019_df, how = \"outer\")\n",
    "combined2019_CitiBike_df6 = pd.merge(combined2019_CitiBike_df5,june_2019_df, how = \"outer\")\n",
    "combined2019_CitiBike_df7 = pd.merge(combined2019_CitiBike_df6,july_2019_df, how = \"outer\")\n",
    "combined2019_CitiBike_df8 = pd.merge(combined2019_CitiBike_df7,aug_2019_df, how = \"outer\")\n",
    "combined2019_CitiBike_df9 = pd.merge(combined2019_CitiBike_df8,sept_2019_df, how = \"outer\")\n",
    "combined2019_CitiBike_df10 = pd.merge(combined2019_CitiBike_df9,oct_2019_df, how = \"outer\")\n",
    "combined2019_CitiBike_df11 = pd.merge(combined2019_CitiBike_df10,nov_2019_df, how = \"outer\")\n",
    "combined1920_CitiBike_df12 = pd.merge(combined2019_CitiBike_df11,jan_2020_df, how = \"outer\")\n",
    "combined1920_CitiBike_df13 = pd.merge(combined1920_CitiBike_df12,feb_2020_df, how = \"outer\")\n",
    "combined1920_CitiBike_df14 = pd.merge(combined1920_CitiBike_df13,mar_2020_df, how = \"outer\")\n",
    "combined1920_CitiBike_df15 = pd.merge(combined1920_CitiBike_df14,apr_2020_df, how = \"outer\")\n",
    "combined1920_CitiBike_df16 = pd.merge(combined1920_CitiBike_df15,may_2020_df, how = \"outer\")\n",
    "combined1920_CitiBike_df17 = pd.merge(combined1920_CitiBike_df16,june_2020_df, how = \"outer\")\n",
    "combined1920_CitiBike_df18 = pd.merge(combined1920_CitiBike_df17,july_2020_df, how = \"outer\")\n",
    "combined1920_CitiBike_df19 = pd.merge(combined1920_CitiBike_df18,aug_2020_df, how = \"outer\")\n",
    "combined1920_CitiBike_df20 = pd.merge(combined1920_CitiBike_df19,sept_2020_df, how = \"outer\")\n",
    "combined1920_CitiBike_df21 = pd.merge(combined1920_CitiBike_df20,oct_2020_df, how = \"outer\")\n",
    "combined1920_CitiBike_df22 = pd.merge(combined1920_CitiBike_df21,nov_2020_df, how = \"outer\")\n",
    "\n",
    "combined1920_CitiBike_df22\n",
    "\n"
   ]
  },
  {
   "cell_type": "code",
   "execution_count": null,
   "metadata": {},
   "outputs": [],
   "source": [
    "#Changing gender column to male, female, and unknown vs 0,1,2 \n",
    "combined1920_CitiBike_df22[\"gender\"] = combined1920_CitiBike_df22[\"gender\"].map(str)\n",
    "combined1920_CitiBike_df22[\"gender\"] = combined1920_CitiBike_df22[\"gender\"].replace(['0','1','2'],['Unknown','Male','Female'])\n",
    "combined1920_CitiBike_df22.head()"
   ]
  },
  {
   "cell_type": "code",
   "execution_count": null,
   "metadata": {},
   "outputs": [],
   "source": [
    "#splitting start time column \n",
    "combined1920_CitiBike_df22['starttime'] = pd.to_datetime(combined1920_CitiBike_df22['starttime'])\n",
    "combined1920_CitiBike_df22['start date'] = combined1920_CitiBike_df22['starttime'].dt.date\n",
    "combined1920_CitiBike_df22['start time'] = combined1920_CitiBike_df22['starttime'].dt.time\n",
    "combined1920_CitiBike_df22.head()"
   ]
  },
  {
   "cell_type": "code",
   "execution_count": null,
   "metadata": {},
   "outputs": [],
   "source": [
    "#splitting end time time column \n",
    "combined1920_CitiBike_df22['stoptime'] = pd.to_datetime(combined1920_CitiBike_df22['stoptime'])\n",
    "combined1920_CitiBike_df22['end date'] = combined1920_CitiBike_df22['stoptime'].dt.date\n",
    "combined1920_CitiBike_df22['end time'] = combined1920_CitiBike_df22['stoptime'].dt.time\n",
    "combined1920_CitiBike_df22.head()"
   ]
  },
  {
   "cell_type": "code",
   "execution_count": null,
   "metadata": {},
   "outputs": [],
   "source": [
    "# Drop starttime column\n",
    "\n",
    "combined1920_CitiBike_df22.drop('starttime', inplace=True, axis=1)\n",
    "combined1920_CitiBike_df22.head()\n"
   ]
  },
  {
   "cell_type": "code",
   "execution_count": null,
   "metadata": {
    "scrolled": true
   },
   "outputs": [],
   "source": [
    "# Drop stoptime column \n",
    "\n",
    "combined1920_CitiBike_df22.drop('stoptime', inplace=True, axis=1)\n",
    "combined1920_CitiBike_df22.head()"
   ]
  },
  {
   "cell_type": "code",
   "execution_count": null,
   "metadata": {},
   "outputs": [],
   "source": [
    "#pandas datetimeindex docs: https://pandas.pydata.org/pandas-docs/stable/generated/pandas.DatetimeIndex.html\n",
    "#efficient way to extract year from string format date\n",
    "combined1920_CitiBike_df22['year'] = pd.DatetimeIndex(combined1920_CitiBike_df22['start date']).year\n",
    "combined1920_CitiBike_df22"
   ]
  },
  {
   "cell_type": "code",
   "execution_count": null,
   "metadata": {},
   "outputs": [],
   "source": [
    "combined1920_CitiBike_df22.dtypes"
   ]
  },
  {
   "cell_type": "code",
   "execution_count": null,
   "metadata": {},
   "outputs": [],
   "source": [
    "# combined1920_CitiBike_df22['month'] = combined1920_CitiBike_df22['start date'].dt.strftime('%b')\n",
    "# combined1920_CitiBike_df22\n",
    "\n",
    "combined1920_CitiBike_df22['month'] = pd.DatetimeIndex(combined1920_CitiBike_df22['start date']).month\n",
    "combined1920_CitiBike_df22\n",
    "# pd.to_datetime(combined1920_CitiBike_df22['month'], format='%b')\n",
    "# combined1920_CitiBike_df22"
   ]
  },
  {
   "cell_type": "code",
   "execution_count": null,
   "metadata": {},
   "outputs": [],
   "source": [
    "combined1920_CitiBike_df22.dtypes"
   ]
  },
  {
   "cell_type": "code",
   "execution_count": null,
   "metadata": {},
   "outputs": [],
   "source": [
    "combined1920_CitiBike_df22['month'] = combined1920_CitiBike_df22['month'].apply(lambda x: calendar.month_abbr[x])\n",
    "combined1920_CitiBike_df22"
   ]
  },
  {
   "cell_type": "code",
   "execution_count": null,
   "metadata": {},
   "outputs": [],
   "source": [
    "#Saving to CSV \n",
    "\n",
    "combined1920_CitiBike_df22.to_csv(r'/Users/aliciasmith/Desktop/CitiBike-Homework-/citibikecombined2.csv', index = False)"
   ]
  },
  {
   "cell_type": "code",
   "execution_count": null,
   "metadata": {},
   "outputs": [],
   "source": []
  }
 ],
 "metadata": {
  "kernelspec": {
   "display_name": "Python 3",
   "language": "python",
   "name": "python3"
  },
  "language_info": {
   "codemirror_mode": {
    "name": "ipython",
    "version": 3
   },
   "file_extension": ".py",
   "mimetype": "text/x-python",
   "name": "python",
   "nbconvert_exporter": "python",
   "pygments_lexer": "ipython3",
   "version": "3.8.3"
  }
 },
 "nbformat": 4,
 "nbformat_minor": 4
}
